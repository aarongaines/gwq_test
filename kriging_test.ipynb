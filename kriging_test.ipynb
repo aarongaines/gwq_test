{
 "cells": [
  {
   "cell_type": "code",
   "execution_count": 2,
   "metadata": {},
   "outputs": [],
   "source": [
    "# Import modules\n",
    "import geopandas as gpd\n",
    "import matplotlib.pyplot as plt\n",
    "import numpy as np\n",
    "import pandas as pd\n",
    "import rasterio\n",
    "import rasterio.mask\n",
    "from rasterio.plot import show\n",
    "from rasterio.transform import Affine\n",
    "from scipy.spatial import Voronoi, voronoi_plot_2d\n",
    "from shapely.geometry import box\n",
    "from shapely.geometry import Polygon, Point\n",
    "from sklearn.gaussian_process import GaussianProcessRegressor\n",
    "from sklearn.metrics import r2_score\n",
    "from sklearn.model_selection import train_test_split\n",
    "from sklearn.neighbors import KNeighborsRegressor"
   ]
  },
  {
   "cell_type": "code",
   "execution_count": null,
   "metadata": {},
   "outputs": [],
   "source": [
    "# Load data\n",
    "\n",
    "# Block boundaries\n",
    "# Source: https://www2.census.gov/geo/tiger/TIGER2021/TABBLOCK20/tl_2021_06_tabblock20.zip\n",
    "counties = gpd.read_file(\"../_static/e_vector_shapefiles/sf_bay_counties/sf_bay_counties.shp\")\n",
    "\n",
    "# Rainfall measurement \"locations\"\n",
    "# Source: https://earthworks.stanford.edu/catalog/stanford-td754wr4701\n",
    "# Modified by author by clipping raster to San Francisco Bay Area, generating random points, and extracting raster values (0-255) to the points\n",
    "rainfall = gpd.read_file(\"../_static/e_vector_shapefiles/sf_bay_rainfall/sf_bay_rainfall.shp\")\n",
    "\n",
    "# Reproject data to CA Teale Albert\n",
    "# https://nrm.dfg.ca.gov/FileHandler.ashx?DocumentID=109326&inline\n",
    "proj = \"+proj=aea +lat_1=34 +lat_2=40.5 +lat_0=0 +lon_0=-120 +x_0=0 +y_0=-4000000 +ellps=GRS80 +datum=NAD83 +units=m +no_defs \"\n",
    "counties = counties.to_crs(proj)\n",
    "rainfall = rainfall.to_crs(proj)"
   ]
  }
 ],
 "metadata": {
  "interpreter": {
   "hash": "f86f1d05d54eb1d73251de2c58ff719ad58d8c49eae568a5e6dd785c8b72bc6f"
  },
  "kernelspec": {
   "display_name": "Python 3.9.5 ('geoprj')",
   "language": "python",
   "name": "python3"
  },
  "language_info": {
   "codemirror_mode": {
    "name": "ipython",
    "version": 3
   },
   "file_extension": ".py",
   "mimetype": "text/x-python",
   "name": "python",
   "nbconvert_exporter": "python",
   "pygments_lexer": "ipython3",
   "version": "3.9.5"
  },
  "orig_nbformat": 4
 },
 "nbformat": 4,
 "nbformat_minor": 2
}
